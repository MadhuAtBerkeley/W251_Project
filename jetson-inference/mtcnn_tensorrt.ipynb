{
 "cells": [
  {
   "cell_type": "code",
   "execution_count": 3,
   "metadata": {},
   "outputs": [],
   "source": [
    "import torch\n",
    "import torch.onnx\n",
    "from models.mtcnn import PNet, RNet, ONet\n",
    "import tensorrt"
   ]
  },
  {
   "cell_type": "code",
   "execution_count": 4,
   "metadata": {},
   "outputs": [
    {
     "name": "stdout",
     "output_type": "stream",
     "text": [
      "/bin/bash: trtexec: command not found\r\n"
     ]
    }
   ],
   "source": [
    "BATCH_SIZE = 1\n",
    "H = 160\n",
    "W = 160\n",
    "USE_FP16 = 1\n",
    "pnet = PNet()\n",
    "dummy_input=torch.randn(BATCH_SIZE, 3, H, W)\n",
    "torch.onnx.export(pnet, dummy_input, \"pnet.onnx\", verbose=False)\n",
    "\n",
    "# step out of Python for a moment to convert the ONNX model to a TRT engine using trtexec\n",
    "if USE_FP16:\n",
    "    !trtexec --onnx=pnet.onnx --saveEngine=pnet_engine.trt  --explicitBatch --inputIOFormats=fp16:chw --outputIOFormats=fp16:chw --fp16\n",
    "else:\n",
    "    !trtexec --onnx=pnet.onnx --saveEngine=pnet_engine.trt  --explicitBatch"
   ]
  },
  {
   "cell_type": "code",
   "execution_count": 5,
   "metadata": {},
   "outputs": [
    {
     "name": "stdout",
     "output_type": "stream",
     "text": [
      "/bin/bash: trtexec: command not found\r\n"
     ]
    }
   ],
   "source": [
    "rnet = RNet()\n",
    "dummy_input=torch.randn(BATCH_SIZE, 3, 24, 24)\n",
    "torch.onnx.export(rnet, dummy_input, \"rnet.onnx\", verbose=False)\n",
    "# step out of Python for a moment to convert the ONNX model to a TRT engine using trtexec\n",
    "if USE_FP16:\n",
    "    !trtexec --onnx=rnet.onnx --saveEngine=rnet_engine.trt  --explicitBatch --inputIOFormats=fp16:chw --outputIOFormats=fp16:chw --fp16\n",
    "else:\n",
    "    !trtexec --onnx=rnet.onnx --saveEngine=rnet_engine.trt  --explicitBatch"
   ]
  },
  {
   "cell_type": "code",
   "execution_count": 10,
   "metadata": {},
   "outputs": [
    {
     "name": "stderr",
     "output_type": "stream",
     "text": [
      "/Users/madhuhegde/work/berkeley/W251/onnx/mtcnn-pytorch/src/get_nets.py:189: UserWarning: Implicit dimension choice for softmax has been deprecated. Change the call to include dim=X as an argument.\n",
      "  a = F.softmax(a)\n"
     ]
    }
   ],
   "source": [
    "onet = ONet()\n",
    "dummy_input=torch.randn(BATCH_SIZE, 3, 48, 48)\n",
    "torch.onnx.export(onet, dummy_input, \"onet.onnx\", verbose=False)\n",
    "# step out of Python for a moment to convert the ONNX model to a TRT engine using trtexec\n",
    "if USE_FP16:\n",
    "    !trtexec --onnx=onet.onnx --saveEngine=onet_engine.trt  --explicitBatch --inputIOFormats=fp16:chw --outputIOFormats=fp16:chw --fp16\n",
    "else:\n",
    "    !trtexec --onnx=onet.onnx --saveEngine=onet_engine.trt  --explicitBatch"
   ]
  }
 ],
 "metadata": {
  "kernelspec": {
   "display_name": "Python 3 (ipykernel)",
   "language": "python",
   "name": "python3"
  },
  "language_info": {
   "codemirror_mode": {
    "name": "ipython",
    "version": 3
   },
   "file_extension": ".py",
   "mimetype": "text/x-python",
   "name": "python",
   "nbconvert_exporter": "python",
   "pygments_lexer": "ipython3",
   "version": "3.9.7"
  }
 },
 "nbformat": 4,
 "nbformat_minor": 2
}
